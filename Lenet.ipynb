{
 "cells": [
  {
   "cell_type": "code",
   "execution_count": 1,
   "metadata": {},
   "outputs": [],
   "source": [
    "import tensorflow as tf\n",
    "from tensorflow import keras\n",
    "import matplotlib.pyplot as plt\n",
    "import cv2\n",
    "import numpy as np\n",
    "import pandas as pd"
   ]
  },
  {
   "cell_type": "markdown",
   "metadata": {},
   "source": [
    "### Importing Dataset"
   ]
  },
  {
   "cell_type": "code",
   "execution_count": 2,
   "metadata": {},
   "outputs": [
    {
     "name": "stdout",
     "output_type": "stream",
     "text": [
      "Found 2509 files belonging to 35 classes.\n",
      "Using 2259 files for training.\n"
     ]
    }
   ],
   "source": [
    "data_dir ='dataset'\n",
    "ds = tf.keras.preprocessing.image_dataset_from_directory(\n",
    "  data_dir,\n",
    "  subset='training',\n",
    "  validation_split=0.1,\n",
    "  seed=123,\n",
    "  image_size=(32,32))"
   ]
  },
  {
   "cell_type": "markdown",
   "metadata": {},
   "source": [
    "## LENET\n"
   ]
  },
  {
   "cell_type": "code",
   "execution_count": 3,
   "metadata": {},
   "outputs": [],
   "source": [
    "class Lenet:\n",
    "    \n",
    "    model = keras.Sequential()\n",
    "\n",
    "    model.add(keras.layers.Conv2D(filters=6, kernel_size=(3, 3), activation='relu', input_shape=(32,32,3)))\n",
    "    model.add(keras.layers.AveragePooling2D())\n",
    "\n",
    "    model.add(keras.layers.Conv2D(filters=16, kernel_size=(3, 3), activation='relu'))\n",
    "    model.add(keras.layers.AveragePooling2D())\n",
    "\n",
    "    model.add(keras.layers.Flatten())\n",
    "\n",
    "    model.add(keras.layers.Dense(units=120, activation='relu'))\n",
    "\n",
    "    model.add(keras.layers.Dense(units=84, activation='relu'))\n",
    "\n",
    "    model.add(keras.layers.Dense(units=35, activation = 'softmax'))\n",
    "\n",
    "    model.compile(optimizer='adam',\n",
    "                  loss='sparse_categorical_crossentropy',\n",
    "                  metrics=['accuracy'])    \n",
    "    \n",
    "    def __init__(self):\n",
    "        pass\n",
    "    \n",
    "    def train(self,data,epoch):\n",
    "        self.model.fit(data,epochs=epoch)\n",
    "        \n",
    "    def predict_class(self,test_img):\n",
    "        return str(self.model.predict_classes(test_img)[0])        \n",
    "                \n",
    "    def save_model(self):\n",
    "        self.model.save('Lenet.h5')"
   ]
  },
  {
   "cell_type": "code",
   "execution_count": 4,
   "metadata": {},
   "outputs": [
    {
     "name": "stdout",
     "output_type": "stream",
     "text": [
      "Epoch 1/15\n",
      "71/71 [==============================] - 1s 16ms/step - loss: 3.4500 - accuracy: 0.4697\n",
      "Epoch 2/15\n",
      "71/71 [==============================] - 1s 17ms/step - loss: 0.9423 - accuracy: 0.7826\n",
      "Epoch 3/15\n",
      "71/71 [==============================] - 1s 15ms/step - loss: 0.5383 - accuracy: 0.8783\n",
      "Epoch 4/15\n",
      "71/71 [==============================] - 1s 16ms/step - loss: 0.3481 - accuracy: 0.9150\n",
      "Epoch 5/15\n",
      "71/71 [==============================] - 1s 16ms/step - loss: 0.2382 - accuracy: 0.9433\n",
      "Epoch 6/15\n",
      "71/71 [==============================] - 1s 15ms/step - loss: 0.1797 - accuracy: 0.9557\n",
      "Epoch 7/15\n",
      "71/71 [==============================] - 1s 15ms/step - loss: 0.1308 - accuracy: 0.9664\n",
      "Epoch 8/15\n",
      "71/71 [==============================] - 1s 15ms/step - loss: 0.1073 - accuracy: 0.9761\n",
      "Epoch 9/15\n",
      "71/71 [==============================] - 1s 15ms/step - loss: 0.0679 - accuracy: 0.9801\n",
      "Epoch 10/15\n",
      "71/71 [==============================] - 1s 15ms/step - loss: 0.0613 - accuracy: 0.9832\n",
      "Epoch 11/15\n",
      "71/71 [==============================] - 1s 15ms/step - loss: 0.0641 - accuracy: 0.9819\n",
      "Epoch 12/15\n",
      "71/71 [==============================] - 1s 15ms/step - loss: 0.0761 - accuracy: 0.9788\n",
      "Epoch 13/15\n",
      "71/71 [==============================] - 1s 15ms/step - loss: 0.0634 - accuracy: 0.9783\n",
      "Epoch 14/15\n",
      "71/71 [==============================] - 1s 15ms/step - loss: 0.0563 - accuracy: 0.9836\n",
      "Epoch 15/15\n",
      "71/71 [==============================] - 1s 15ms/step - loss: 0.0257 - accuracy: 0.9920\n"
     ]
    }
   ],
   "source": [
    "model = Lenet()\n",
    "model.train(ds,15)"
   ]
  },
  {
   "cell_type": "markdown",
   "metadata": {},
   "source": [
    "## Model Summary"
   ]
  },
  {
   "cell_type": "code",
   "execution_count": 5,
   "metadata": {},
   "outputs": [
    {
     "name": "stdout",
     "output_type": "stream",
     "text": [
      "Model: \"sequential\"\n",
      "_________________________________________________________________\n",
      "Layer (type)                 Output Shape              Param #   \n",
      "=================================================================\n",
      "conv2d (Conv2D)              (None, 30, 30, 6)         168       \n",
      "_________________________________________________________________\n",
      "average_pooling2d (AveragePo (None, 15, 15, 6)         0         \n",
      "_________________________________________________________________\n",
      "conv2d_1 (Conv2D)            (None, 13, 13, 16)        880       \n",
      "_________________________________________________________________\n",
      "average_pooling2d_1 (Average (None, 6, 6, 16)          0         \n",
      "_________________________________________________________________\n",
      "flatten (Flatten)            (None, 576)               0         \n",
      "_________________________________________________________________\n",
      "dense (Dense)                (None, 120)               69240     \n",
      "_________________________________________________________________\n",
      "dense_1 (Dense)              (None, 84)                10164     \n",
      "_________________________________________________________________\n",
      "dense_2 (Dense)              (None, 35)                2975      \n",
      "=================================================================\n",
      "Total params: 83,427\n",
      "Trainable params: 83,427\n",
      "Non-trainable params: 0\n",
      "_________________________________________________________________\n",
      "None\n"
     ]
    }
   ],
   "source": [
    "print(model.model.summary())"
   ]
  },
  {
   "cell_type": "code",
   "execution_count": 6,
   "metadata": {},
   "outputs": [
    {
     "name": "stdout",
     "output_type": "stream",
     "text": [
      "WARNING:tensorflow:From <ipython-input-3-6069bd7fcdb2>:30: Sequential.predict_classes (from tensorflow.python.keras.engine.sequential) is deprecated and will be removed after 2021-01-01.\n",
      "Instructions for updating:\n",
      "Please use instead:* `np.argmax(model.predict(x), axis=-1)`,   if your model does multi-class classification   (e.g. if it uses a `softmax` last-layer activation).* `(model.predict(x) > 0.5).astype(\"int32\")`,   if your model does binary classification   (e.g. if it uses a `sigmoid` last-layer activation).\n",
      " 21 17 2 0 14 3 3 4 3\n"
     ]
    },
    {
     "data": {
      "image/png": "[encoded data removed]",
      "text/plain": [
       "<Figure size 432x288 with 1 Axes>"
      ]
     },
     "metadata": {
      "needs_background": "light"
     },
     "output_type": "display_data"
    }
   ],
   "source": [
    "\n",
    "image = cv2.imread('test.jpg')\n",
    "\n",
    "gray = cv2.cvtColor(image, cv2.COLOR_RGB2GRAY)\n",
    "blurred = cv2.GaussianBlur(gray, (5, 5), 0)\n",
    "edged = cv2.Canny(blurred, 50, 200, 255)\n",
    "\n",
    "cv2.threshold(edged,0,255,cv2.THRESH_BINARY+cv2.THRESH_OTSU,gray)\n",
    "\n",
    "contours,_ = cv2.findContours(edged, cv2.RETR_EXTERNAL,cv2.CHAIN_APPROX_NONE)\n",
    "\n",
    "code = ''\n",
    "\n",
    "if(len(contours) !=0):\n",
    "    for c in contours:\n",
    "\n",
    "        x, y, w, h = cv2.boundingRect(c)     \n",
    "        area = cv2.contourArea(c)\n",
    "        \n",
    "        if(area>100):        \n",
    "            img = image[y:y+h,x:x+w]\n",
    "            img = cv2.resize(img,(32,32))\n",
    "            img = np.reshape(img,(1,32,32,3))\n",
    "            code  = code + ' ' + model.predict_class(img)\n",
    "\n",
    "    cv2.drawContours(image, contours, -1, (255 ,0,0), 1)\n",
    "    plt.imshow(image)\n",
    "        \n",
    "print(code)"
   ]
  },
  {
   "cell_type": "markdown",
   "metadata": {},
   "source": [
    "## Saving the Model"
   ]
  },
  {
   "cell_type": "code",
   "execution_count": 8,
   "metadata": {},
   "outputs": [],
   "source": [
    "model.save_model()"
   ]
  }
 ],
 "metadata": {
  "kernelspec": {
   "display_name": "Python 3",
   "language": "python",
   "name": "python3"
  },
  "language_info": {
   "codemirror_mode": {
    "name": "ipython",
    "version": 3
   },
   "file_extension": ".py",
   "mimetype": "text/x-python",
   "name": "python",
   "nbconvert_exporter": "python",
   "pygments_lexer": "ipython3",
   "version": "3.6.12"
  }
 },
 "nbformat": 4,
 "nbformat_minor": 4
}
